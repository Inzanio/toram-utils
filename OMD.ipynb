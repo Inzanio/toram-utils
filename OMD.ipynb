{
 "cells": [
  {
   "cell_type": "code",
   "execution_count": 40,
   "id": "529f50fa",
   "metadata": {},
   "outputs": [],
   "source": [
    "# utils\n",
    "from math import floor\n",
    "\n",
    "def calculateTotalStat(base, total_percent=0,total_flat=0) :\n",
    "    return floor(base*(100+total_percent)/100) + total_flat \n",
    "# caculate total WATK\n",
    "def totalWATK(baseWATK, totalWATK_percent, totalWATK_flat, refine = 15):\n",
    "    return floor((floor(baseWATK * (1+(refine * refine)/100)) + refine)* ((100+totalWATK_percent)/100)) + totalWATK_flat\n",
    "# calculate total MATK\n",
    "def totalMATK(level,totalINT , totalDEX, total_Magic_WATK , MATK_percent, MATK_flat):\n",
    "    return floor( (level + totalINT * 4 + totalDEX + total_Magic_WATK) * (100+MATK_percent)/100 ) + MATK_flat\n",
    "\n",
    "def totalM_OHS_ATK(level,totalSTR , totalDEX, total_WATK , ATK_percent, ATK_flat):\n",
    "    return floor( (level + totalSTR * 2 + totalDEX*2 + total_WATK) * (100+ATK_percent)/100 ) + ATK_flat\n",
    "#\n",
    "def totalMagicDTE(baseINT,totalDTE,isStrongElement = False, isOverlimitActive = False):\n",
    "    return 100+floor(baseINT/10 + totalDTE + (25 if isStrongElement else 0) + (20 if isOverlimitActive else 0))\n",
    "\n",
    "def totalMagicCriticalDmg(totalSTR,totalCD_percent,totalCD_flat, ratio = .75):\n",
    "    return 100 + floor((-100+ (150+ totalSTR/5 )*((100+totalCD_percent)/100) + totalCD_flat)*ratio)"
   ]
  },
  {
   "cell_type": "code",
   "execution_count": 41,
   "id": "61a37401",
   "metadata": {},
   "outputs": [],
   "source": [
    "class BasicStat:\n",
    "    def __init__(self, base=0, flat_bonus=0, percent_bonus=0):\n",
    "        self.base = base\n",
    "        self.flat_bonus = flat_bonus\n",
    "        self.percent_bonus = percent_bonus\n",
    "\n",
    "    @property\n",
    "    def total(self):\n",
    "        return calculateTotalStat(self.base, self.percent_bonus ,self.flat_bonus)\n",
    "\n",
    "    def __str__(self):\n",
    "        return f\"Base : {self.base}, Bonus plat : {self.flat_bonus}, Bonus pourcentage : {self.percent_bonus}%, Total : {self.total}\"\n"
   ]
  },
  {
   "cell_type": "markdown",
   "id": "cab031f6",
   "metadata": {},
   "source": [
    "# build omd\n",
    "# INT -> STR or AGI\n",
    "\n",
    "main weapon  = ohs\n",
    "sub weapon = md\n",
    "armor = light armor\n"
   ]
  },
  {
   "cell_type": "code",
   "execution_count": 42,
   "id": "f0cd3c96",
   "metadata": {},
   "outputs": [
    {
     "name": "stdout",
     "output_type": "stream",
     "text": [
      "Total Bonus stat 776\n",
      "Conusmed stat  776\n",
      "Rest :  0\n"
     ]
    }
   ],
   "source": [
    "# BASIC STATS\n",
    "playerLevel = 300\n",
    "\n",
    "STR = BasicStat(268)\n",
    "STR.flat_bonus = 30\n",
    "STR.percent_bonus = 6\n",
    "INT = BasicStat(510)\n",
    "AGI = BasicStat(1)\n",
    "DEX = BasicStat(1)\n",
    "CRIT = BasicStat(1)\n",
    "totab_b_stat = 778 -2\n",
    "consumed = STR.base - 1 + INT.base - 1 + AGI.base -1 + DEX.base -1 + CRIT.base - 1\n",
    "print(\"Total Bonus stat\",totab_b_stat)\n",
    "print(\"Conusmed stat \", consumed)\n",
    "print(\"Rest : \" , totab_b_stat - consumed)"
   ]
  },
  {
   "cell_type": "markdown",
   "id": "512d6030",
   "metadata": {},
   "source": [
    "## Max MP"
   ]
  },
  {
   "cell_type": "code",
   "execution_count": 43,
   "id": "3032e755",
   "metadata": {},
   "outputs": [
    {
     "name": "stdout",
     "output_type": "stream",
     "text": [
      "Max MP :  100\n"
     ]
    }
   ],
   "source": [
    "maxMP = 100\n",
    "print (\"Max MP : \", maxMP)"
   ]
  },
  {
   "cell_type": "markdown",
   "id": "a82817b4",
   "metadata": {},
   "source": [
    "## AMPR"
   ]
  },
  {
   "cell_type": "code",
   "execution_count": 44,
   "id": "9fd77309",
   "metadata": {},
   "outputs": [
    {
     "name": "stdout",
     "output_type": "stream",
     "text": [
      "total AMPR :  11.0\n"
     ]
    }
   ],
   "source": [
    "totalAMPR = 10 + maxMP/100\n",
    "totalAMPR+= 0\n",
    "print (\"total AMPR : \", totalAMPR)"
   ]
  },
  {
   "cell_type": "markdown",
   "id": "813dfc4a",
   "metadata": {},
   "source": [
    "## Critical Rate"
   ]
  },
  {
   "cell_type": "code",
   "execution_count": 45,
   "id": "04312d38",
   "metadata": {},
   "outputs": [
    {
     "name": "stdout",
     "output_type": "stream",
     "text": [
      "base CR :  25\n",
      "Total CR :  125\n",
      "Total Magic CR :  93.75\n"
     ]
    }
   ],
   "source": [
    "baseCR = 25\n",
    "totalCR_percent = 40 # Etoise\n",
    "totalCR_flat = +30 +25 + 5 +30 # food buff + skill astute + skill crit up\n",
    "totalCR = calculateTotalStat(baseCR,totalCR_percent,totalCR_flat)\n",
    "print(\"base CR : \", baseCR)\n",
    "print(\"Total CR : \", totalCR)\n",
    "ratio = .75\n",
    "totalMagicCR = totalCR * ratio\n",
    "print(\"Total Magic CR : \", totalMagicCR)\n"
   ]
  },
  {
   "cell_type": "markdown",
   "id": "dc20b0b2",
   "metadata": {},
   "source": [
    "## Critical Damage"
   ]
  },
  {
   "cell_type": "code",
   "execution_count": 46,
   "id": "7c481029",
   "metadata": {},
   "outputs": [
    {
     "name": "stdout",
     "output_type": "stream",
     "text": [
      "Total STR :  314\n",
      "Total CD :  271\n",
      "Cd with penalty : 271\n",
      "Total Magic CD : 271\n"
     ]
    }
   ],
   "source": [
    "# CD\n",
    "baseCD = 150 + STR.total/5\n",
    "totalCD_percent = 11+5+1 # armor + skill crit up + ava\n",
    "totalCD_flat = 23 # armor\n",
    "totalCD = calculateTotalStat(baseCD,totalCD_percent,totalCD_flat)\n",
    "print(\"Total STR : \", STR.total)\n",
    "print(\"Total CD : \", totalCD)\n",
    "print(\"Cd with penalty :\", ((300+(totalCD-300)/2) if totalCD > 300 else totalCD))\n",
    "print(\"Total Magic CD :\", totalMagicCriticalDmg(STR.total,totalCD_percent,totalCD_flat,1))"
   ]
  },
  {
   "cell_type": "markdown",
   "id": "6dda9817",
   "metadata": {},
   "source": [
    "## DTE"
   ]
  },
  {
   "cell_type": "code",
   "execution_count": 47,
   "id": "23f7198a",
   "metadata": {},
   "outputs": [
    {
     "name": "stdout",
     "output_type": "stream",
     "text": [
      "Total Magic DTE :  2.04\n"
     ]
    }
   ],
   "source": [
    "totalDTE = 23+5\n",
    "isStrongElement = True\n",
    "MAGIC_DTE = totalMagicDTE(INT.base,totalDTE,isStrongElement)/100\n",
    "print (\"Total Magic DTE : \", MAGIC_DTE )"
   ]
  },
  {
   "cell_type": "markdown",
   "id": "7a54fa0e",
   "metadata": {},
   "source": [
    "## Short range Damage"
   ]
  },
  {
   "cell_type": "code",
   "execution_count": 48,
   "id": "693f017f",
   "metadata": {},
   "outputs": [
    {
     "name": "stdout",
     "output_type": "stream",
     "text": [
      "Tatal SRD :  100\n"
     ]
    }
   ],
   "source": [
    "TotalSRD = 100+0\n",
    "print(\"Tatal SRD : \", TotalSRD)"
   ]
  },
  {
   "cell_type": "markdown",
   "id": "ef22ebe0",
   "metadata": {},
   "source": [
    "## ATK & MATK"
   ]
  },
  {
   "cell_type": "code",
   "execution_count": 49,
   "id": "5c4a5f3d",
   "metadata": {},
   "outputs": [
    {
     "name": "stdout",
     "output_type": "stream",
     "text": [
      "Total ATK :  3695\n",
      "Base MATK :  2341\n",
      "MATK Flat :  2790\n",
      "Total MATK :  5131\n",
      "Wizard MATK :  4772\n"
     ]
    }
   ],
   "source": [
    "# Weapon\n",
    "weaponTotalWATK = totalWATK(650,30,0)\n",
    "\n",
    "# ATK and MATK\n",
    "totalWeaponATK = weaponTotalWATK\n",
    "totalATK_percent = 0\n",
    "totalATK_flat = 0\n",
    "ATK = totalM_OHS_ATK(playerLevel,STR.total,DEX.total,totalWeaponATK,totalATK_percent,totalATK_flat)\n",
    "\n",
    "totalWeaponMATK = 0\n",
    "totalMATK_percent = 0\n",
    "totalMATK_flat = totalWeaponATK +25 # conversion effect\n",
    "MATK = totalMATK(playerLevel,INT.total,DEX.total,totalWeaponMATK,totalMATK_percent,totalMATK_flat)\n",
    "\n",
    "print(\"Total ATK : \", ATK)\n",
    "print(\"Base MATK : \",  MATK - totalMATK_flat)\n",
    "print(\"MATK Flat : \", totalMATK_flat)\n",
    "print(\"Total MATK : \", MATK)\n",
    "print(\"Wizard MATK : \" ,floor( ATK * 0.25 + MATK * 0.75))"
   ]
  },
  {
   "cell_type": "markdown",
   "id": "f9573f4b",
   "metadata": {},
   "source": [
    "## Physical && Magic Pierce"
   ]
  },
  {
   "cell_type": "code",
   "execution_count": 50,
   "id": "d873db6f",
   "metadata": {},
   "outputs": [
    {
     "name": "stdout",
     "output_type": "stream",
     "text": [
      "Tatal Physical Pierce :  0\n",
      "Tatal Magic Pierce :  0\n"
     ]
    }
   ],
   "source": [
    "totalPP = 0\n",
    "\n",
    "totalMagicPierce = 0\n",
    "\n",
    "print(\"Tatal Physical Pierce : \", totalPP)\n",
    "print(\"Tatal Magic Pierce : \", totalMagicPierce)"
   ]
  },
  {
   "cell_type": "markdown",
   "id": "7fe5a588",
   "metadata": {},
   "source": [
    "## SPEED AND MOTION"
   ]
  },
  {
   "cell_type": "code",
   "execution_count": 51,
   "id": "6f356832",
   "metadata": {},
   "outputs": [
    {
     "name": "stdout",
     "output_type": "stream",
     "text": [
      "baseASPD 467.0\n",
      "total Flat 4900\n",
      "total percent 145\n",
      "Total ASPD : 6044\n",
      "Total Motion : 48\n"
     ]
    }
   ],
   "source": [
    "# SPEED & Motion\n",
    "\n",
    "baseASPD = playerLevel +100 + AGI.total*4.2 + STR.total*0.2\n",
    "totalASPD_percent = 0\n",
    "totalASPD_percent += +100 + 25 +10+10# berserk + quick aura + quick slash+bangrudom\n",
    "totalASPD_falt = 0\n",
    "totalASPD_falt += 1000+500+100 # berserk + quick aura + quick slash\n",
    "totalASPD_falt += 100 + 100 +1000 # regislet + conso dte + tera\n",
    "totalASPD_falt += +1100+1000 # Etoise + death colon\n",
    "\n",
    "totalASPD =calculateTotalStat(baseASPD,totalASPD_percent,totalASPD_falt)\n",
    "\n",
    "print(\"baseASPD\", baseASPD)\n",
    "print(\"total Flat\",totalASPD_falt)\n",
    "print(\"total percent\",totalASPD_percent)\n",
    "print(\"Total ASPD :\",totalASPD)\n",
    "\n",
    "totalMotionFlat = 10+5 # kunai in mouth + mii petite staff\n",
    "totalMotionFlat += 5  # Etoise \n",
    "totalMotion = floor((totalASPD - 1000)/180) + totalMotionFlat\n",
    "print(\"Total Motion :\",totalMotion)"
   ]
  },
  {
   "cell_type": "code",
   "execution_count": 52,
   "id": "68d9b52d",
   "metadata": {},
   "outputs": [
    {
     "name": "stdout",
     "output_type": "stream",
     "text": [
      "Total STR :  277\n",
      "Total CD :  261\n",
      "Cd with penalty :\n",
      "Total Magic CD : 261\n"
     ]
    }
   ],
   "source": [
    "\n",
    "\n",
    "# CD\n",
    "\n",
    "STR = BasicStat(262)\n",
    "STR.flat_bonus = 0\n",
    "STR.percent_bonus = 6\n",
    "\n",
    "baseCD = 150 + STR.total/5\n",
    "totalCD_percent = 10+5+1 # weapon + armor + skill crit up + ava\n",
    "totalCD_flat = 23 # weapon +armor\n",
    "totalCD = calculateTotalStat(baseCD,totalCD_percent,totalCD_flat)\n",
    "sey_real_cd = floor((300+(totalCD-300)/2) if totalCD > 300 else totalCD)/100\n",
    "print(\"Total STR : \", STR.total)\n",
    "print(\"Total CD : \", totalCD)\n",
    "print(\"Cd with penalty :\", )\n",
    "print(\"Total Magic CD :\", totalMagicCriticalDmg(STR.total,totalCD_percent,totalCD_flat,1))"
   ]
  }
 ],
 "metadata": {
  "kernelspec": {
   "display_name": "Python 3",
   "language": "python",
   "name": "python3"
  },
  "language_info": {
   "codemirror_mode": {
    "name": "ipython",
    "version": 3
   },
   "file_extension": ".py",
   "mimetype": "text/x-python",
   "name": "python",
   "nbconvert_exporter": "python",
   "pygments_lexer": "ipython3",
   "version": "3.12.7"
  }
 },
 "nbformat": 4,
 "nbformat_minor": 5
}
