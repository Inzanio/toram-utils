{
 "cells": [
  {
   "cell_type": "markdown",
   "metadata": {},
   "source": [
    "# Depending on Boss how much pierce do i need ?"
   ]
  },
  {
   "cell_type": "code",
   "execution_count": 171,
   "metadata": {},
   "outputs": [],
   "source": [
    "from math import floor , ceil\n",
    "import pandas as pd\n"
   ]
  },
  {
   "cell_type": "code",
   "execution_count": 172,
   "metadata": {},
   "outputs": [
    {
     "data": {
      "text/plain": [
       "{'level': 295,\n",
       " 'base ATK': 5000,\n",
       " 'total ATK%': 50,\n",
       " 'total Physical Pierce': 0,\n",
       " 'base MATK': 100,\n",
       " 'total MATK%': 0,\n",
       " 'total Magic Pierce': 0,\n",
       " 'total ATK': 7500,\n",
       " 'total MATK': 100}"
      ]
     },
     "execution_count": 172,
     "metadata": {},
     "output_type": "execute_result"
    }
   ],
   "source": [
    "# some player stat\n",
    "player = {\n",
    "    \"level\" : 295,\n",
    "       \n",
    "    \"base ATK\" : 5000,\n",
    "    \"total ATK%\" : 50,\n",
    "    \"total Physical Pierce\" : 0,\n",
    " \n",
    "    \"base MATK\": 100,\n",
    "    \"total MATK%\": 0,\n",
    "    \"total Magic Pierce\" : 0\n",
    "}\n",
    "player[\"total ATK\"] = floor(player[\"base ATK\"] * (100 + player[\"total ATK%\"])/100)\n",
    "player[\"total MATK\"] = floor(player[\"base MATK\"] * (100 + player[\"total MATK%\"])/100)\n",
    "\n",
    "player"
   ]
  },
  {
   "cell_type": "code",
   "execution_count": 173,
   "metadata": {},
   "outputs": [],
   "source": [
    "# monster stat\n",
    "monster = {\n",
    "    \"level\" : 125,\n",
    "    \"DEF\" : 5500,\n",
    "    \"physical resistance\" : 10,\n",
    "    \"MDEF\" : 5500,\n",
    "    \"magic resistance\" : 10\n",
    "}"
   ]
  },
  {
   "cell_type": "code",
   "execution_count": 174,
   "metadata": {},
   "outputs": [],
   "source": [
    "def base_dmg (player= player , target = monster):\n",
    "    # physical base dmg\n",
    "    base_physical_dmg = (player[\"total ATK\"] + player[\"level\"] + 1 - target[\"level\"]) * (100 - target[\"physical resistance\"]  )/100\n",
    "    # magic base dmg\n",
    "    base_magic_dmg = (player[\"total MATK\"] + player[\"level\"] + 1 - target[\"level\"]) * (100 - target[\"magic resistance\"]  )/100\n",
    "\n",
    "    return { \"physical\" : base_physical_dmg , \"magic\" : base_magic_dmg }"
   ]
  },
  {
   "cell_type": "code",
   "execution_count": 175,
   "metadata": {},
   "outputs": [],
   "source": [
    "def effective_target_defense (player= player , target = monster) :\n",
    "    effectiv_DEF = target[\"DEF\"] *  (100 - player[\"total Physical Pierce\"])/100\n",
    "    effectiv_MDEF = target[\"MDEF\"] *  (100 - player[\"total Magic Pierce\"])/100\n",
    "    \n",
    "    return { \"physical\" : effectiv_DEF , \"magic\" : effectiv_MDEF }"
   ]
  },
  {
   "cell_type": "code",
   "execution_count": 176,
   "metadata": {},
   "outputs": [],
   "source": [
    "def effective_atk (player= player , target = monster) :\n",
    "    physical = floor(base_dmg (player , target)[\"physical\"] - effective_target_defense (player , target)[\"physical\"])\n",
    "    magic = floor(base_dmg (player , target)[\"magic\"] - effective_target_defense (player , target)[\"magic\"])\n",
    "    \n",
    "    return { \"physical\" : physical , \"magic\" : magic }"
   ]
  },
  {
   "cell_type": "code",
   "execution_count": 177,
   "metadata": {},
   "outputs": [
    {
     "data": {
      "text/plain": [
       "{'physical': 1403, 'magic': -5257}"
      ]
     },
     "execution_count": 177,
     "metadata": {},
     "output_type": "execute_result"
    }
   ],
   "source": [
    "effective_atk(player,monster)"
   ]
  },
  {
   "cell_type": "code",
   "execution_count": 178,
   "metadata": {},
   "outputs": [],
   "source": [
    "data_atk_pierce = pd.DataFrame(columns=['Physical Pierce', 'Effective Physical ATK']) \n",
    "for pierce in range (0,100+1):\n",
    "    player[\"total Physical Pierce\"] = pierce\n",
    "    \n",
    "    new_row = pd.DataFrame([[pierce, effective_atk(player,monster)[\"physical\"]]], columns=['Physical Pierce', 'Effective Physical ATK'])\n",
    "    data_atk_pierce = pd.concat([data_atk_pierce, new_row], ignore_index=True)"
   ]
  },
  {
   "cell_type": "code",
   "execution_count": 179,
   "metadata": {},
   "outputs": [
    {
     "data": {
      "text/plain": [
       "<Axes: xlabel='Physical Pierce'>"
      ]
     },
     "execution_count": 179,
     "metadata": {},
     "output_type": "execute_result"
    },
    {
     "data": {
      "image/png": "[encoded data removed]",
      "text/plain": [
       "<Figure size 640x480 with 1 Axes>"
      ]
     },
     "metadata": {},
     "output_type": "display_data"
    }
   ],
   "source": [
    "data_atk_pierce.plot(x=\"Physical Pierce\",y='Effective Physical ATK')"
   ]
  },
  {
   "cell_type": "code",
   "execution_count": 180,
   "metadata": {},
   "outputs": [
    {
     "data": {
      "text/html": [
       "<div>\n",
       "<style scoped>\n",
       "    .dataframe tbody tr th:only-of-type {\n",
       "        vertical-align: middle;\n",
       "    }\n",
       "\n",
       "    .dataframe tbody tr th {\n",
       "        vertical-align: top;\n",
       "    }\n",
       "\n",
       "    .dataframe thead th {\n",
       "        text-align: right;\n",
       "    }\n",
       "</style>\n",
       "<table border=\"1\" class=\"dataframe\">\n",
       "  <thead>\n",
       "    <tr style=\"text-align: right;\">\n",
       "      <th></th>\n",
       "      <th>Physical Pierce</th>\n",
       "      <th>Effective Physical ATK</th>\n",
       "    </tr>\n",
       "  </thead>\n",
       "  <tbody>\n",
       "    <tr>\n",
       "      <th>0</th>\n",
       "      <td>0</td>\n",
       "      <td>1403</td>\n",
       "    </tr>\n",
       "    <tr>\n",
       "      <th>1</th>\n",
       "      <td>1</td>\n",
       "      <td>1458</td>\n",
       "    </tr>\n",
       "    <tr>\n",
       "      <th>2</th>\n",
       "      <td>2</td>\n",
       "      <td>1513</td>\n",
       "    </tr>\n",
       "    <tr>\n",
       "      <th>3</th>\n",
       "      <td>3</td>\n",
       "      <td>1568</td>\n",
       "    </tr>\n",
       "    <tr>\n",
       "      <th>4</th>\n",
       "      <td>4</td>\n",
       "      <td>1623</td>\n",
       "    </tr>\n",
       "    <tr>\n",
       "      <th>...</th>\n",
       "      <td>...</td>\n",
       "      <td>...</td>\n",
       "    </tr>\n",
       "    <tr>\n",
       "      <th>96</th>\n",
       "      <td>96</td>\n",
       "      <td>6683</td>\n",
       "    </tr>\n",
       "    <tr>\n",
       "      <th>97</th>\n",
       "      <td>97</td>\n",
       "      <td>6738</td>\n",
       "    </tr>\n",
       "    <tr>\n",
       "      <th>98</th>\n",
       "      <td>98</td>\n",
       "      <td>6793</td>\n",
       "    </tr>\n",
       "    <tr>\n",
       "      <th>99</th>\n",
       "      <td>99</td>\n",
       "      <td>6848</td>\n",
       "    </tr>\n",
       "    <tr>\n",
       "      <th>100</th>\n",
       "      <td>100</td>\n",
       "      <td>6903</td>\n",
       "    </tr>\n",
       "  </tbody>\n",
       "</table>\n",
       "<p>101 rows × 2 columns</p>\n",
       "</div>"
      ],
      "text/plain": [
       "    Physical Pierce Effective Physical ATK\n",
       "0                 0                   1403\n",
       "1                 1                   1458\n",
       "2                 2                   1513\n",
       "3                 3                   1568\n",
       "4                 4                   1623\n",
       "..              ...                    ...\n",
       "96               96                   6683\n",
       "97               97                   6738\n",
       "98               98                   6793\n",
       "99               99                   6848\n",
       "100             100                   6903\n",
       "\n",
       "[101 rows x 2 columns]"
      ]
     },
     "execution_count": 180,
     "metadata": {},
     "output_type": "execute_result"
    }
   ],
   "source": [
    "data_atk_pierce"
   ]
  },
  {
   "cell_type": "markdown",
   "metadata": {},
   "source": [
    "# seeing like that of course max pierce = max possible damage\n",
    "\n",
    "here we need to define the elasticity pierce/dmg\n",
    "\n",
    "or the dmg you accept to lost due to boss def\n"
   ]
  },
  {
   "cell_type": "code",
   "execution_count": 181,
   "metadata": {},
   "outputs": [],
   "source": [
    "# the amount of boss def you accept\n",
    "acceptable_boss_def = 500"
   ]
  },
  {
   "cell_type": "code",
   "execution_count": 182,
   "metadata": {},
   "outputs": [],
   "source": [
    "def pierce_need_based_on_acceptable_boss_def (target = monster , acceptable_boss_def = acceptable_boss_def):\n",
    "    \n",
    "    physical_pierce_needed = ceil( 100 - ((acceptable_boss_def * 100)/target[\"DEF\"] ))\n",
    "    magic_pierce_needed =  ceil (100 - ((acceptable_boss_def * 100)/target[\"MDEF\"] ))\n",
    "    \n",
    "    return { \"physical\" : physical_pierce_needed , \"magic\" : magic_pierce_needed }\n",
    "    "
   ]
  },
  {
   "cell_type": "code",
   "execution_count": 183,
   "metadata": {},
   "outputs": [
    {
     "data": {
      "text/plain": [
       "{'physical': 91, 'magic': 91}"
      ]
     },
     "execution_count": 183,
     "metadata": {},
     "output_type": "execute_result"
    }
   ],
   "source": [
    "pierce_need_based_on_acceptable_boss_def(monster,acceptable_boss_def=500)"
   ]
  },
  {
   "cell_type": "code",
   "execution_count": 184,
   "metadata": {},
   "outputs": [],
   "source": [
    "# the percentage of dmg you accept to lost due to boss def\n",
    "acceptable_dmg_loss_from_boss_def = 5\n",
    "\n",
    "def pierce_need_based_on_acceptable_dmg_loss_from_boss_def (player = player,target = monster , acceptable_dmg_loss_from_boss_def = acceptable_dmg_loss_from_boss_def):\n",
    "    # physical \n",
    "    physical_pierce_needed = 0\n",
    "    for pierce in range (0,100+1):\n",
    "        player[\"total Physical Pierce\"] = pierce\n",
    "        physical_pierce_needed = pierce\n",
    "        baseDmg = base_dmg(player,target)[\"physical\"]\n",
    "        effectiveAtk = effective_atk(player,target)[\"physical\"]  \n",
    "        dmg_lost = ((baseDmg - effectiveAtk)/baseDmg ) * 100\n",
    "        \n",
    "        if  dmg_lost <= acceptable_dmg_loss_from_boss_def :\n",
    "            break\n",
    "    # magic \n",
    "    magic_pierce_needed = 0\n",
    "    for pierce in range (0,100+1):\n",
    "        player[\"total Magic Pierce\"] = pierce\n",
    "        magic_pierce_needed = pierce\n",
    "        baseDmg = base_dmg(player,target)[\"magic\"]\n",
    "        effectiveAtk = effective_atk(player,target)[\"magic\"]  \n",
    "        dmg_lost = ((baseDmg - effectiveAtk)/baseDmg ) * 100\n",
    "        \n",
    "        if  dmg_lost <= acceptable_dmg_loss_from_boss_def :\n",
    "            break\n",
    "    \n",
    "    \n",
    "    return { \"physical\" : physical_pierce_needed , \"magic\" : magic_pierce_needed }"
   ]
  },
  {
   "cell_type": "code",
   "execution_count": 185,
   "metadata": {},
   "outputs": [
    {
     "data": {
      "text/plain": [
       "{'physical': 82, 'magic': 100}"
      ]
     },
     "execution_count": 185,
     "metadata": {},
     "output_type": "execute_result"
    }
   ],
   "source": [
    "pierce_need_based_on_acceptable_dmg_loss_from_boss_def(player,monster,15)"
   ]
  },
  {
   "cell_type": "markdown",
   "metadata": {},
   "source": [
    "# Now play with it Sey !"
   ]
  },
  {
   "cell_type": "code",
   "execution_count": 186,
   "metadata": {},
   "outputs": [],
   "source": [
    "# player stat\n",
    "player = {\n",
    "    \"level\" : 295,\n",
    "       \n",
    "    \"base ATK\" : 5000,\n",
    "    \"total ATK%\" : 50,\n",
    "    \"total Physical Pierce\" : 0,\n",
    " \n",
    "    \"base MATK\": 100,\n",
    "    \"total MATK%\": 0,\n",
    "    \"total Magic Pierce\" : 0\n",
    "}\n",
    "player[\"total ATK\"] = floor(player[\"base ATK\"] * (100 + player[\"total ATK%\"])/100)\n",
    "player[\"total MATK\"] = floor(player[\"base MATK\"] * (100 + player[\"total MATK%\"])/100)"
   ]
  },
  {
   "cell_type": "code",
   "execution_count": 187,
   "metadata": {},
   "outputs": [],
   "source": [
    "# monster stat\n",
    "monster = {\n",
    "    \"level\" : 294,\n",
    "    \"DEF\" : 4388,\n",
    "    \"physical resistance\" : 10,\n",
    "    \"MDEF\" : 5500,\n",
    "    \"magic resistance\" : 10\n",
    "}"
   ]
  },
  {
   "cell_type": "code",
   "execution_count": 188,
   "metadata": {},
   "outputs": [
    {
     "data": {
      "text/plain": [
       "{'physical': 91, 'magic': 91}"
      ]
     },
     "execution_count": 188,
     "metadata": {},
     "output_type": "execute_result"
    }
   ],
   "source": [
    "#acceptable_boss_def = 100 mean u accept that boss has max 100 def\n",
    "pierce_need_based_on_acceptable_boss_def(monster,acceptable_boss_def=500)"
   ]
  },
  {
   "cell_type": "code",
   "execution_count": 189,
   "metadata": {},
   "outputs": [
    {
     "data": {
      "text/plain": [
       "{'physical': 88, 'magic': 100}"
      ]
     },
     "execution_count": 189,
     "metadata": {},
     "output_type": "execute_result"
    }
   ],
   "source": [
    "#acceptable_dmg_loss_from_boss_def = 10 mean u accept to loose 10% of ur basedmg due to boss def\n",
    "\n",
    "pierce_need_based_on_acceptable_dmg_loss_from_boss_def(player,monster,acceptable_dmg_loss_from_boss_def=10)"
   ]
  },
  {
   "cell_type": "code",
   "execution_count": 190,
   "metadata": {},
   "outputs": [
    {
     "data": {
      "text/plain": [
       "4388"
      ]
     },
     "execution_count": 190,
     "metadata": {},
     "output_type": "execute_result"
    }
   ],
   "source": [
    "1097*4"
   ]
  }
 ],
 "metadata": {
  "kernelspec": {
   "display_name": ".venv",
   "language": "python",
   "name": "python3"
  },
  "language_info": {
   "codemirror_mode": {
    "name": "ipython",
    "version": 3
   },
   "file_extension": ".py",
   "mimetype": "text/x-python",
   "name": "python",
   "nbconvert_exporter": "python",
   "pygments_lexer": "ipython3",
   "version": "3.12.7"
  }
 },
 "nbformat": 4,
 "nbformat_minor": 2
}
