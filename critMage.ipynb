{
 "cells": [
  {
   "cell_type": "markdown",
   "id": "1c614ac2",
   "metadata": {},
   "source": [
    "# crit"
   ]
  },
  {
   "cell_type": "code",
   "execution_count": 1,
   "id": "7b89aa3f",
   "metadata": {},
   "outputs": [],
   "source": [
    "from math import floor\n",
    "# basic status\n",
    "CRIT = 255\n",
    "base_critical_rate = 25 + floor (CRIT/3.4)\n",
    "\n",
    "def total_critical_rate ( baseCrit = base_critical_rate , totalCritPercent = 0 , totalCritFlat = 0) :\n",
    "    return floor(baseCrit * (100+totalCritPercent)/100)+totalCritFlat"
   ]
  },
  {
   "cell_type": "code",
   "execution_count": 2,
   "id": "3ec5496d",
   "metadata": {},
   "outputs": [],
   "source": [
    "totalCriPercent = 0\n",
    "totalCriFlat = 0\n",
    "#food buff\n",
    "totalCriFlat += 30\n",
    "# Weapon\n",
    "\n",
    "# shield\n",
    "totalCriPercent = 100\n",
    "\n",
    "# armor\n",
    "# totalCriPercent += 30\n",
    "# totalCriFlat+= 30\n",
    "\n",
    "#additional\n",
    "#add xtals\n",
    "totalCriPercent+=50 # giant pelulu\n",
    "\n",
    "# ring\n",
    "#totalCriPercent+= 40\n",
    "#  ring xtals\n",
    "totalCriPercent+= 40 # Etoise\n",
    "\n",
    "# conso\n",
    "totalCriPercent += 40  # morning star gummy \n",
    "#totalCriPercent += 40 #+ mummy roll cake\n",
    "#totalCriFlat+= +6 # leafy sakura tea\n",
    "#totalCriFlat+= +15 # big tokoyaki\n",
    "\n",
    "\n",
    "# ava\n",
    "totalCriFlat+= 5\n",
    "#skills\n",
    "totalCriFlat+= 5 # crit up\n",
    "\n",
    "# ability \n",
    "ability_level = 3\n",
    "totalCriFlat+=25+25*ability_level # abitlity weapon\n",
    "totalCriFlat+=25+25*ability_level # ability armor\n",
    " \n",
    "\n",
    "# other \n",
    "# totalCriPercent += 20 # colon boss\n",
    "# totalCriPercent += 20 # steel ring 2s"
   ]
  },
  {
   "cell_type": "code",
   "execution_count": 3,
   "id": "884d4fe8",
   "metadata": {},
   "outputs": [
    {
     "name": "stdout",
     "output_type": "stream",
     "text": [
      "Total Crit Percent : 230 %\n",
      "Total Crit Flat  240\n",
      "Total crit rate 570\n",
      "Total Magic Critical Rate 142\n"
     ]
    }
   ],
   "source": [
    "print(\"Total Crit Percent :\" , totalCriPercent , \"%\")\n",
    "print(\"Total Crit Flat \", totalCriFlat)\n",
    "cr = total_critical_rate(totalCritFlat=totalCriFlat, totalCritPercent=totalCriPercent)\n",
    "mcr = floor(cr/4)\n",
    "print(\"Total crit rate\", cr)\n",
    "print (\"Total Magic Critical Rate\", mcr)"
   ]
  },
  {
   "cell_type": "markdown",
   "id": "c5278653",
   "metadata": {},
   "source": [
    "# Magic Pierce\n"
   ]
  },
  {
   "cell_type": "code",
   "execution_count": 23,
   "id": "1a5e87d9",
   "metadata": {},
   "outputs": [
    {
     "name": "stdout",
     "output_type": "stream",
     "text": [
      "Total Magic Pierce : 98\n"
     ]
    }
   ],
   "source": [
    "magic_pierce = 0\n",
    "# weapon\n",
    "magic_pierce += 20 # diark\n",
    "# armor\n",
    "magic_pierce += 10 # merzehal\n",
    "# additionnal\n",
    "magic_pierce += 10 # erkuch\n",
    "# ring\n",
    "magic_pierce += 10\n",
    "\n",
    "# conso\n",
    "magic_pierce += 10\n",
    "\n",
    "# avatar\n",
    "magic_pierce += 8 # add ava\n",
    "magic_pierce += 7 # top ava\n",
    "magic_pierce += 8 # bottom ava\n",
    "\n",
    "# skill buff\n",
    "magic_pierce += 15 # magic lazer\n",
    "\n",
    "print(\"Total Magic Pierce :\", magic_pierce)\n"
   ]
  },
  {
   "cell_type": "code",
   "execution_count": 27,
   "id": "3cb961bd",
   "metadata": {},
   "outputs": [
    {
     "data": {
      "text/plain": [
       "850.0"
      ]
     },
     "execution_count": 27,
     "metadata": {},
     "output_type": "execute_result"
    }
   ],
   "source": [
    "-8900*0.0 +8500*0.1"
   ]
  }
 ],
 "metadata": {
  "kernelspec": {
   "display_name": ".venv",
   "language": "python",
   "name": "python3"
  },
  "language_info": {
   "codemirror_mode": {
    "name": "ipython",
    "version": 3
   },
   "file_extension": ".py",
   "mimetype": "text/x-python",
   "name": "python",
   "nbconvert_exporter": "python",
   "pygments_lexer": "ipython3",
   "version": "3.12.7"
  }
 },
 "nbformat": 4,
 "nbformat_minor": 5
}
