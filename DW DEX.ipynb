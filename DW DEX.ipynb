{
 "cells": [
  {
   "cell_type": "markdown",
   "id": "089e5398",
   "metadata": {},
   "source": [
    "# Dual Sword Build"
   ]
  },
  {
   "cell_type": "code",
   "execution_count": 13,
   "id": "529f50fa",
   "metadata": {},
   "outputs": [],
   "source": [
    "# utils\n",
    "from math import floor\n",
    "\n",
    "def calculateTotalStat(base, total_percent=0,total_flat=0) :\n",
    "    return floor(base*(100+total_percent)/100) + total_flat \n",
    "# caculate total WATK\n",
    "def totalWATK(baseWATK, totalWATK_percent, totalWATK_flat, refine = 15):\n",
    "    return floor(floor(baseWATK * (1+(refine * refine + totalWATK_percent)/100))) + refine+ totalWATK_flat\n",
    "# calculate total MATK\n",
    "def totalMATK(level,totalINT , totalDEX, total_Magic_WATK , MATK_percent, MATK_flat):\n",
    "    return floor( (level + totalINT * 4 + totalDEX + total_Magic_WATK) * (100+MATK_percent)/100 ) + MATK_flat\n",
    "\n",
    "def totalM_OHS_ATK(level,totalSTR , totalDEX, total_WATK , ATK_percent, ATK_flat):\n",
    "    return floor( (level + totalSTR * 2 + totalDEX*2 + total_WATK) * (100+ATK_percent)/100 ) + ATK_flat\n",
    "#\n",
    "def totalMagicDTE(baseINT,totalDTE,isStrongElement = False, isOverlimitActive = False):\n",
    "    return 100+floor(baseINT/10 + totalDTE + (25 if isStrongElement else 0) + (20 if isOverlimitActive else 0))\n",
    "\n",
    "def totalMagicCriticalDmg(totalSTR,totalCD_percent,totalCD_flat, ratio = .75):\n",
    "    return 100 + floor((-100+ (150+ totalSTR/5 )*((100+totalCD_percent)/100) + totalCD_flat)*ratio)\n",
    "\n",
    "def totalDS_ATK(level,totalSTR , totalAGI,totalDEX, total_WATK , ATK_percent, ATK_flat):\n",
    "    return floor( (level + totalSTR + totalAGI + totalDEX*2 + total_WATK) * (100+ATK_percent)/100 ) + ATK_flat\n",
    "\n",
    "def totalDS_Sub_WATK (baseWATK, totalWATK_percent, totalWATK_flat, refine = 15):\n",
    "    return floor(floor(baseWATK * (1+ (refine * refine )/200 + totalWATK_percent/100))) + refine + totalWATK_flat\n",
    "\n",
    "def totalDS_Sub_ATK(level,totalSTR , totalAGI, total_DS_Sub_WATK , ATK_percent, ATK_flat):\n",
    "    return floor( (level + totalSTR * 1 + totalAGI*3 + total_DS_Sub_WATK) * (100+ATK_percent)/100 ) + ATK_flat\n",
    "\n",
    "def totalDS_Sub_Stab(baseWeaponStab_percent,totalSTR , totalAGI,totalStab_percent) :\n",
    "    return floor((baseWeaponStab_percent/2 + totalSTR * 0.06 + totalAGI * 0.04 + totalStab_percent))/100\n",
    "    \n"
   ]
  },
  {
   "cell_type": "code",
   "execution_count": 14,
   "id": "61a37401",
   "metadata": {},
   "outputs": [],
   "source": [
    "class BasicStat:\n",
    "    def __init__(self, base=0, flat_bonus=0, percent_bonus=0):\n",
    "        self.base = base\n",
    "        self.flat_bonus = flat_bonus\n",
    "        self.percent_bonus = percent_bonus\n",
    "\n",
    "    @property\n",
    "    def total(self):\n",
    "        return calculateTotalStat(self.base, self.percent_bonus ,self.flat_bonus)\n",
    "\n",
    "    def __str__(self):\n",
    "        return f\"Base : {self.base}, Bonus plat : {self.flat_bonus}, Bonus pourcentage : {self.percent_bonus}%, Total : {self.total}\"\n"
   ]
  },
  {
   "cell_type": "markdown",
   "id": "cab031f6",
   "metadata": {},
   "source": [
    "\n",
    "\n",
    "main weapon  = ohs\n",
    "sub weapon = ohs\n",
    "armor = light armor\n"
   ]
  },
  {
   "cell_type": "code",
   "execution_count": 15,
   "id": "f0cd3c96",
   "metadata": {},
   "outputs": [
    {
     "name": "stdout",
     "output_type": "stream",
     "text": [
      "Total Bonus stat 776\n",
      "Conusmed stat  776\n",
      "Rest :  0\n",
      "Base STR 290\n",
      "Base AGI 389\n",
      "Base DEX 100\n"
     ]
    }
   ],
   "source": [
    "# BASIC STATS\n",
    "playerLevel = 300\n",
    "\n",
    "\n",
    "STR = BasicStat(129+25+50+50-4+40)\n",
    "STR.flat_bonus = +30\n",
    "STR.percent_bonus = 6\n",
    "INT = BasicStat(1)\n",
    "AGI = BasicStat(400-25+4+10)\n",
    "AGI.flat_bonus = 15+30\n",
    "AGI.percent_bonus =10\n",
    "DEX = BasicStat(250-50-50-10-40)\n",
    "CRIT = BasicStat(1)\n",
    "\n",
    "totab_b_stat = 778 -2\n",
    "consumed = STR.base - 1 + AGI.base -1 + DEX.base -1 + CRIT.base - 1\n",
    "print(\"Total Bonus stat\",totab_b_stat)\n",
    "print(\"Conusmed stat \", consumed)\n",
    "print(\"Rest : \" , totab_b_stat - consumed)\n",
    "\n",
    "print(\"Base STR\" , STR.base)\n",
    "print(\"Base AGI\", AGI.base)\n",
    "print(\"Base DEX\", DEX.base)"
   ]
  },
  {
   "cell_type": "markdown",
   "id": "512d6030",
   "metadata": {},
   "source": [
    "## Max MP"
   ]
  },
  {
   "cell_type": "code",
   "execution_count": 16,
   "id": "3032e755",
   "metadata": {},
   "outputs": [
    {
     "name": "stdout",
     "output_type": "stream",
     "text": [
      "Max MP :  2000\n"
     ]
    }
   ],
   "source": [
    "maxMP = playerLevel+100+400+100+400 # regislet + mp conso  + guild buff + supreme\n",
    "maxMP +=+100+100+700 # + bushido lvl10 + jibril + nena 2\n",
    "maxMP += -100*2*0 + -200 # wild beast lixi *0 + dango \n",
    "maxMP = min(2000,maxMP)\n",
    "print (\"Max MP : \", maxMP)"
   ]
  },
  {
   "cell_type": "markdown",
   "id": "91cadea2",
   "metadata": {},
   "source": [
    "Food buff \n",
    "- HP+5k\n",
    "- AMPR+30\n",
    "- CR+30\n",
    "- AGI+30\n",
    "- STR+30\n",
    "\n"
   ]
  },
  {
   "cell_type": "markdown",
   "id": "a82817b4",
   "metadata": {},
   "source": [
    "## AMPR"
   ]
  },
  {
   "cell_type": "code",
   "execution_count": 17,
   "id": "9fd77309",
   "metadata": {},
   "outputs": [
    {
     "name": "stdout",
     "output_type": "stream",
     "text": [
      "total AMPR :  133.0\n",
      "DS AMPR :  266.0\n"
     ]
    }
   ],
   "source": [
    "totalAMPR = 10 + maxMP/100\n",
    "totalAMPR+= 30+25+8+20+20 # food buff + raikiri ranshin + mana catalyst + crescent saber / saber aura + sicanokami\n",
    "print (\"total AMPR : \", totalAMPR)\n",
    "print(\"DS AMPR : \",  totalAMPR * 2)"
   ]
  },
  {
   "cell_type": "markdown",
   "id": "813dfc4a",
   "metadata": {},
   "source": [
    "## Critical Rate"
   ]
  },
  {
   "cell_type": "code",
   "execution_count": 18,
   "id": "04312d38",
   "metadata": {},
   "outputs": [
    {
     "name": "stdout",
     "output_type": "stream",
     "text": [
      "base CR :  25\n",
      "Tota CR Falt : 106\n",
      "Total CR :  142\n"
     ]
    }
   ],
   "source": [
    "baseCR =floor( 25 + CRIT.total/3.4)\n",
    "totalCR_percent = 40 + 10-5# Mummy roll cake + ds control -gingerman head\n",
    "totalCR_flat = +30 +5 +16 +30 +25 # food buff + skill crit up + jibril + armor stat + berserk\n",
    "totalCR = calculateTotalStat(baseCR,totalCR_percent,totalCR_flat)\n",
    "print(\"base CR : \", baseCR)\n",
    "print(\"Tota CR Falt :\", totalCR_flat)\n",
    "print(\"Total CR : \", totalCR)"
   ]
  },
  {
   "cell_type": "markdown",
   "id": "dc20b0b2",
   "metadata": {},
   "source": [
    "## Critical Damage"
   ]
  },
  {
   "cell_type": "code",
   "execution_count": 19,
   "id": "7c481029",
   "metadata": {},
   "outputs": [
    {
     "name": "stdout",
     "output_type": "stream",
     "text": [
      "Total STR :  337\n",
      "Total AGI :  472\n",
      "baseCD :  230\n",
      "Total CD :  309\n",
      "Cd with penalty : 304\n"
     ]
    }
   ],
   "source": [
    "# CD\n",
    "baseCD = 150 +floor( STR.total/5 if STR.total > AGI.total else (AGI.total + STR.total)/10 )\n",
    "totalCD_percent = 10+5+1 # weapon + armor + skill crit up + ava\n",
    "totalCD_flat = 20+23 # weapon +armor\n",
    "totalCD = calculateTotalStat(baseCD,totalCD_percent,totalCD_flat)\n",
    "print(\"Total STR : \", STR.total)\n",
    "print(\"Total AGI : \", AGI.total)\n",
    "print('baseCD : ', baseCD)\n",
    "print(\"Total CD : \", totalCD)\n",
    "print(\"Cd with penalty :\", floor((300+(totalCD-300)/2) if totalCD > 300 else totalCD))\n",
    "#print(\"Total Magic CD :\", totalMagicCriticalDmg(STR.total,totalCD_percent,totalCD_flat,1))"
   ]
  },
  {
   "cell_type": "markdown",
   "id": "6dda9817",
   "metadata": {},
   "source": [
    "## DTE"
   ]
  },
  {
   "cell_type": "code",
   "execution_count": 20,
   "id": "23f7198a",
   "metadata": {},
   "outputs": [
    {
     "name": "stdout",
     "output_type": "stream",
     "text": [
      "Total DTE :  76\n"
     ]
    }
   ],
   "source": [
    "totalDTE = 23+23+5 #weapon + armor + conso\n",
    "isStrongElement = True\n",
    "print(\"Total DTE : \", totalDTE + 25 if isStrongElement else 0)\n",
    "# MAGIC_DTE = totalMagicDTE(INT.base,totalDTE,isStrongElement)/100\n",
    "# print (\"Total Magic DTE : \", MAGIC_DTE )"
   ]
  },
  {
   "cell_type": "markdown",
   "id": "7a54fa0e",
   "metadata": {},
   "source": [
    "## Short range Damage"
   ]
  },
  {
   "cell_type": "code",
   "execution_count": 21,
   "id": "693f017f",
   "metadata": {},
   "outputs": [
    {
     "name": "stdout",
     "output_type": "stream",
     "text": [
      "Tatal SRD :  40\n"
     ]
    }
   ],
   "source": [
    "TotalSRD = 10+9+11+10 # Supreme + jibril + altadar +remnant of beyong\n",
    "print(\"Tatal SRD : \", TotalSRD)"
   ]
  },
  {
   "cell_type": "markdown",
   "id": "ef22ebe0",
   "metadata": {},
   "source": [
    "## ATK & MATK"
   ]
  },
  {
   "cell_type": "code",
   "execution_count": 22,
   "id": "5c4a5f3d",
   "metadata": {},
   "outputs": [
    {
     "name": "stdout",
     "output_type": "stream",
     "text": [
      "Total Stability  90\n",
      "Sub Hand Stability 0.99\n",
      "Total ATK :  3496\n",
      "Total SubWeapon ATK :  3644\n",
      "Total ATK :  7103\n",
      "Staibility need  0.010000000000000009\n"
     ]
    }
   ],
   "source": [
    "# Weapon\n",
    "weaponTotalWATK = totalWATK(650,30,0)\n",
    "\n",
    "# ATK and MATK\n",
    "totalWeaponATK = weaponTotalWATK\n",
    "totalATK_percent = 0\n",
    "totalATK_flat = 0\n",
    "ATK = totalM_OHS_ATK(playerLevel,STR.total,DEX.total,totalWeaponATK,totalATK_percent,totalATK_flat)\n",
    "\n",
    "totalSubWeaponMATK = totalDS_Sub_WATK(650,30,0)# conversion effect\n",
    "SubWATK = totalDS_Sub_ATK(playerLevel,STR.total,AGI.total,totalSubWeaponMATK,totalATK_percent,totalATK_flat)\n",
    "isBerserkActive = True\n",
    "total_stab_percent = 6+10+4\n",
    "total_stab = floor(80+ STR.total * 0.025 + DEX.total * 0.075) + total_stab_percent - (25 if isBerserkActive else 0)\n",
    "subStab = totalDS_Sub_Stab(80,STR.total,AGI.total,total_stab_percent)\n",
    "print (\"Total Stability \", total_stab)\n",
    "print(\"Sub Hand Stability\", subStab)\n",
    "print(\"Total ATK : \", ATK)\n",
    "print(\"Total SubWeapon ATK : \", SubWATK)\n",
    "print(\"Total ATK : \" ,floor( ATK + SubWATK * subStab))\n",
    "print (\"Staibility need \", 1 -subStab )"
   ]
  },
  {
   "cell_type": "markdown",
   "id": "f9573f4b",
   "metadata": {},
   "source": [
    "## Physical && Magic Pierce"
   ]
  },
  {
   "cell_type": "code",
   "execution_count": 23,
   "id": "d873db6f",
   "metadata": {},
   "outputs": [
    {
     "name": "stdout",
     "output_type": "stream",
     "text": [
      "Tatal Physical Pierce :  91\n",
      "Tatal Magic Pierce :  0\n"
     ]
    }
   ],
   "source": [
    "totalPP = (5)+(18+10)+(20+10)+(7+5+6)+(10)\n",
    "\n",
    "totalMagicPierce = 0\n",
    "\n",
    "print(\"Tatal Physical Pierce : \", totalPP)\n",
    "print(\"Tatal Magic Pierce : \", totalMagicPierce)"
   ]
  },
  {
   "cell_type": "markdown",
   "id": "7fe5a588",
   "metadata": {},
   "source": [
    "## SPEED AND MOTION"
   ]
  },
  {
   "cell_type": "code",
   "execution_count": 24,
   "id": "6f356832",
   "metadata": {},
   "outputs": [
    {
     "name": "stdout",
     "output_type": "stream",
     "text": [
      "baseASPD 2449.8\n",
      "total Flat 3050\n",
      "total percent 185\n",
      "Total ASPD : 10031\n",
      "Total Motion : 50\n"
     ]
    }
   ],
   "source": [
    "# SPEED & Motion\n",
    "\n",
    "baseASPD = playerLevel +100 + AGI.total*4.2 + STR.total*0.2\n",
    "totalASPD_percent = 0+100*1 # berzerk\n",
    "totalASPD_percent += +0 + 25 +10 + 50#  quick aura + quick slash + light armor \n",
    "totalASPD_falt = 1000 # berzerk\n",
    "totalASPD_falt += 0+500+100 +500#  quick aura + quick slash+dw control passive\n",
    "totalASPD_falt += 100 + 100 +1000 # regislet + conso dte + tera\n",
    "totalASPD_falt += -250 # remnant of beyong\n",
    "\n",
    "totalASPD =calculateTotalStat(baseASPD,totalASPD_percent,totalASPD_falt)\n",
    "\n",
    "print(\"baseASPD\", baseASPD)\n",
    "print(\"total Flat\",totalASPD_falt)\n",
    "print(\"total percent\",totalASPD_percent)\n",
    "print(\"Total ASPD :\",totalASPD)\n",
    "\n",
    "totalMotionFlat = 0\n",
    "totalMotionFlat += 0  #  no etoise\n",
    "totalMotion = floor((totalASPD - 1000)/180) + totalMotionFlat\n",
    "print(\"Total Motion :\",totalMotion)"
   ]
  }
 ],
 "metadata": {
  "kernelspec": {
   "display_name": "Python 3",
   "language": "python",
   "name": "python3"
  },
  "language_info": {
   "codemirror_mode": {
    "name": "ipython",
    "version": 3
   },
   "file_extension": ".py",
   "mimetype": "text/x-python",
   "name": "python",
   "nbconvert_exporter": "python",
   "pygments_lexer": "ipython3",
   "version": "3.12.7"
  }
 },
 "nbformat": 4,
 "nbformat_minor": 5
}
